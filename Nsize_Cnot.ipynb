{
 "cells": [
  {
   "cell_type": "code",
   "execution_count": 1,
   "id": "bcf8ab6e-dc8f-4799-a291-41cf53789cdc",
   "metadata": {},
   "outputs": [],
   "source": [
    "from qiskit import *\n",
    "# Warning: you need to have utils.py in the notebook working directory\n",
    "# You can se it with !pwd and change it with !cd (or using os module)\n",
    "%run utils.py"
   ]
  },
  {
   "cell_type": "code",
   "execution_count": 2,
   "id": "2b4931cc-0a14-4935-94de-73cbff4fd0b9",
   "metadata": {},
   "outputs": [],
   "source": [
    "# N : The size of the Cnot gate\n",
    "# Change it and run all the cells below\n",
    "\n",
    "N = 4"
   ]
  },
  {
   "cell_type": "code",
   "execution_count": 3,
   "id": "70636959-b46b-4894-8c70-6a9f53a310e9",
   "metadata": {
    "tags": []
   },
   "outputs": [],
   "source": [
    "circ = QuantumCircuit(N * 2)\n",
    "\n",
    "circ.x(range(N))  # Init all the control bits value at state |1>\n",
    "# Set the first control bit at superposed state |+>\n",
    "# in order to see the result of the to possible layer states |0111..11> and |1111..11>\n",
    "circ.h(0) \n",
    "\n",
    "\n",
    "cnot = build_cnot(N)\n",
    "circ = circ.compose(cnot)\n",
    "circ.measure_all()"
   ]
  },
  {
   "cell_type": "code",
   "execution_count": 4,
   "id": "46ce81c0-06b5-4cc7-a9f3-4dbe19c0b0b7",
   "metadata": {},
   "outputs": [
    {
     "ename": "NameError",
     "evalue": "name 'Cnot4' is not defined",
     "output_type": "error",
     "traceback": [
      "\u001b[0;31m---------------------------------------------------------------------------\u001b[0m",
      "\u001b[0;31mNameError\u001b[0m                                 Traceback (most recent call last)",
      "\u001b[0;32m/tmp/ipykernel_5086/1114234998.py\u001b[0m in \u001b[0;36m<module>\u001b[0;34m\u001b[0m\n\u001b[0;32m----> 1\u001b[0;31m \u001b[0mCnot4\u001b[0m\u001b[0;34m.\u001b[0m\u001b[0mdraw\u001b[0m\u001b[0;34m(\u001b[0m\u001b[0;34m\"mpl\"\u001b[0m\u001b[0;34m)\u001b[0m\u001b[0;34m\u001b[0m\u001b[0;34m\u001b[0m\u001b[0m\n\u001b[0m",
      "\u001b[0;31mNameError\u001b[0m: name 'Cnot4' is not defined"
     ]
    }
   ],
   "source": [
    "circ.draw(\"mpl\")"
   ]
  },
  {
   "cell_type": "code",
   "execution_count": null,
   "id": "e5f464a2-0ed2-4295-8f6c-56774837275d",
   "metadata": {},
   "outputs": [],
   "source": [
    "# Result of 1024 measurement\n",
    "counts = simulate(circ)\n",
    "plot_histogram(counts)\n",
    "\n",
    "# This should show two equiprobable results\n",
    "# One correspond with the result of full controls bit at 1 the second with one fliped bit\n",
    "# For the first one we see that the controled bit (top left bit) was switched to 1\n",
    "# For the second is unchange\n",
    "# Example with N = 4:\n",
    "#  |11110000> -> |11110001>\n",
    "#  |01110000> -> |01110000>\n",
    "# Note: the three 0 bits one the middle are (J'ai oublié leur nom) bits"
   ]
  }
 ],
 "metadata": {
  "kernelspec": {
   "display_name": "myenv",
   "language": "python",
   "name": "myenv"
  },
  "language_info": {
   "codemirror_mode": {
    "name": "ipython",
    "version": 3
   },
   "file_extension": ".py",
   "mimetype": "text/x-python",
   "name": "python",
   "nbconvert_exporter": "python",
   "pygments_lexer": "ipython3",
   "version": "3.9.7"
  },
  "widgets": {
   "application/vnd.jupyter.widget-state+json": {
    "state": {},
    "version_major": 2,
    "version_minor": 0
   }
  }
 },
 "nbformat": 4,
 "nbformat_minor": 5
}
