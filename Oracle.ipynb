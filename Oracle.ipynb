{
 "cells": [
  {
   "cell_type": "code",
   "execution_count": 1,
   "id": "9348b2e0-aeb2-4ad1-a2f1-ce5e9f50d3fb",
   "metadata": {},
   "outputs": [],
   "source": [
    "from qiskit import *\n",
    "# Warning: you need to have utils.py in the notebook working directory\n",
    "# You can se it with !pwd and change it with !cd (or using os module)\n",
    "%run utils.py"
   ]
  },
  {
   "cell_type": "code",
   "execution_count": 2,
   "id": "cc1f7ccd-f234-486c-9af3-9b454b96608a",
   "metadata": {},
   "outputs": [],
   "source": [
    "# The two important part of the oracle\n",
    "# w: the number to gess in binary (folowing: f(x) = 1 iif x = w where f the oracle function)\n",
    "w = 11\n",
    "# The input number\n",
    "x = bit_array(11)"
   ]
  },
  {
   "cell_type": "code",
   "execution_count": 3,
   "id": "29067cc6-b534-4101-8076-e799add379e1",
   "metadata": {},
   "outputs": [],
   "source": [
    "N = len(x)\n",
    "circ = QuantumCircuit(2 * N)\n",
    "#flip_zeros(circ, x)  # Set x as entry value\n",
    "oracle = num_oracle(w)  # Push the oracle function\n",
    "circ = circ.compose(oracle)"
   ]
  },
  {
   "cell_type": "code",
   "execution_count": 4,
   "id": "476e63f1-8fa6-4e06-afc2-48482e68cb36",
   "metadata": {},
   "outputs": [
    {
     "data": {
      "text/html": [
       "<pre style=\"word-wrap: normal;white-space: pre;background: #fff0;line-height: 1.1;font-family: &quot;Courier New&quot;,Courier,monospace\">           ░                                     ░      \n",
       "q_0: ──────░───■─────────────────────────────■───░──────\n",
       "     ┌───┐ ░   │                             │   ░ ┌───┐\n",
       "q_1: ┤ X ├─░───■─────────────────────────────■───░─┤ X ├\n",
       "     └───┘ ░   │                             │   ░ └───┘\n",
       "q_2: ──────░───┼────■───────────────────■────┼───░──────\n",
       "           ░   │    │                   │    │   ░      \n",
       "q_3: ──────░───┼────┼────■─────────■────┼────┼───░──────\n",
       "           ░ ┌─┴─┐  │    │         │    │  ┌─┴─┐ ░      \n",
       "q_4: ────────┤ X ├──■────┼─────────┼────■──┤ X ├────────\n",
       "             └───┘┌─┴─┐  │         │  ┌─┴─┐└───┘        \n",
       "q_5: ─────────────┤ X ├──■─────────■──┤ X ├─────────────\n",
       "                  └───┘┌─┴─┐     ┌─┴─┐└───┘             \n",
       "q_6: ──────────────────┤ X ├──■──┤ X ├──────────────────\n",
       "                       └───┘┌─┴─┐└───┘                  \n",
       "q_7: ───────────────────────┤ X ├───────────────────────\n",
       "                            └───┘                       </pre>"
      ],
      "text/plain": [
       "           ░                                     ░      \n",
       "q_0: ──────░───■─────────────────────────────■───░──────\n",
       "     ┌───┐ ░   │                             │   ░ ┌───┐\n",
       "q_1: ┤ X ├─░───■─────────────────────────────■───░─┤ X ├\n",
       "     └───┘ ░   │                             │   ░ └───┘\n",
       "q_2: ──────░───┼────■───────────────────■────┼───░──────\n",
       "           ░   │    │                   │    │   ░      \n",
       "q_3: ──────░───┼────┼────■─────────■────┼────┼───░──────\n",
       "           ░ ┌─┴─┐  │    │         │    │  ┌─┴─┐ ░      \n",
       "q_4: ────────┤ X ├──■────┼─────────┼────■──┤ X ├────────\n",
       "             └───┘┌─┴─┐  │         │  ┌─┴─┐└───┘        \n",
       "q_5: ─────────────┤ X ├──■─────────■──┤ X ├─────────────\n",
       "                  └───┘┌─┴─┐     ┌─┴─┐└───┘             \n",
       "q_6: ──────────────────┤ X ├──■──┤ X ├──────────────────\n",
       "                       └───┘┌─┴─┐└───┘                  \n",
       "q_7: ───────────────────────┤ X ├───────────────────────\n",
       "                            └───┘                       "
      ]
     },
     "execution_count": 4,
     "metadata": {},
     "output_type": "execute_result"
    }
   ],
   "source": [
    "circ.draw()"
   ]
  },
  {
   "cell_type": "code",
   "execution_count": 5,
   "id": "5ffeef59-e92d-453b-abf2-fe1a2a71af77",
   "metadata": {},
   "outputs": [],
   "source": [
    "entry = QuantumCircuit(N)\n",
    "flip_zeros(entry, x, invert=True)"
   ]
  },
  {
   "cell_type": "code",
   "execution_count": 6,
   "id": "2fdac477-86c4-4b64-9d65-ddca9b5932aa",
   "metadata": {},
   "outputs": [],
   "source": [
    "circ = circ.compose(entry, range(N), front=True)"
   ]
  },
  {
   "cell_type": "code",
   "execution_count": 7,
   "id": "ef73ba51-ded0-438c-aa82-ae054997c54f",
   "metadata": {},
   "outputs": [
    {
     "data": {
      "text/html": [
       "<pre style=\"word-wrap: normal;white-space: pre;background: #fff0;line-height: 1.1;font-family: &quot;Courier New&quot;,Courier,monospace\">     ┌───┐ ░                                     ░      \n",
       "q_0: ┤ X ├─░───■─────────────────────────────■───░──────\n",
       "     ├───┤ ░   │                             │   ░ ┌───┐\n",
       "q_1: ┤ X ├─░───■─────────────────────────────■───░─┤ X ├\n",
       "     ├───┤ ░   │                             │   ░ └───┘\n",
       "q_2: ┤ X ├─░───┼────■───────────────────■────┼───░──────\n",
       "     ├───┤ ░   │    │                   │    │   ░      \n",
       "q_3: ┤ X ├─░───┼────┼────■─────────■────┼────┼───░──────\n",
       "     └───┘ ░ ┌─┴─┐  │    │         │    │  ┌─┴─┐ ░      \n",
       "q_4: ────────┤ X ├──■────┼─────────┼────■──┤ X ├────────\n",
       "             └───┘┌─┴─┐  │         │  ┌─┴─┐└───┘        \n",
       "q_5: ─────────────┤ X ├──■─────────■──┤ X ├─────────────\n",
       "                  └───┘┌─┴─┐     ┌─┴─┐└───┘             \n",
       "q_6: ──────────────────┤ X ├──■──┤ X ├──────────────────\n",
       "                       └───┘┌─┴─┐└───┘                  \n",
       "q_7: ───────────────────────┤ X ├───────────────────────\n",
       "                            └───┘                       </pre>"
      ],
      "text/plain": [
       "     ┌───┐ ░                                     ░      \n",
       "q_0: ┤ X ├─░───■─────────────────────────────■───░──────\n",
       "     ├───┤ ░   │                             │   ░ ┌───┐\n",
       "q_1: ┤ X ├─░───■─────────────────────────────■───░─┤ X ├\n",
       "     ├───┤ ░   │                             │   ░ └───┘\n",
       "q_2: ┤ X ├─░───┼────■───────────────────■────┼───░──────\n",
       "     ├───┤ ░   │    │                   │    │   ░      \n",
       "q_3: ┤ X ├─░───┼────┼────■─────────■────┼────┼───░──────\n",
       "     └───┘ ░ ┌─┴─┐  │    │         │    │  ┌─┴─┐ ░      \n",
       "q_4: ────────┤ X ├──■────┼─────────┼────■──┤ X ├────────\n",
       "             └───┘┌─┴─┐  │         │  ┌─┴─┐└───┘        \n",
       "q_5: ─────────────┤ X ├──■─────────■──┤ X ├─────────────\n",
       "                  └───┘┌─┴─┐     ┌─┴─┐└───┘             \n",
       "q_6: ──────────────────┤ X ├──■──┤ X ├──────────────────\n",
       "                       └───┘┌─┴─┐└───┘                  \n",
       "q_7: ───────────────────────┤ X ├───────────────────────\n",
       "                            └───┘                       "
      ]
     },
     "execution_count": 7,
     "metadata": {},
     "output_type": "execute_result"
    }
   ],
   "source": [
    "circ.draw()"
   ]
  },
  {
   "cell_type": "code",
   "execution_count": null,
   "id": "11173278-d245-4a32-84ef-0be26696efe1",
   "metadata": {},
   "outputs": [],
   "source": []
  }
 ],
 "metadata": {
  "kernelspec": {
   "display_name": "myenv",
   "language": "python",
   "name": "myenv"
  },
  "language_info": {
   "codemirror_mode": {
    "name": "ipython",
    "version": 3
   },
   "file_extension": ".py",
   "mimetype": "text/x-python",
   "name": "python",
   "nbconvert_exporter": "python",
   "pygments_lexer": "ipython3",
   "version": "3.9.7"
  }
 },
 "nbformat": 4,
 "nbformat_minor": 5
}
